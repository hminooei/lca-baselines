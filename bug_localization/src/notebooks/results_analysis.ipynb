{
 "cells": [
  {
   "cell_type": "code",
   "execution_count": 1,
   "id": "initial_id",
   "metadata": {
    "ExecuteTime": {
     "end_time": "2024-06-22T02:43:12.633956Z",
     "start_time": "2024-06-22T02:43:12.058534Z"
    }
   },
   "outputs": [],
   "source": [
    "import pandas as pd\n",
    "import ast\n",
    "import numpy as np\n",
    "import os"
   ]
  },
  {
   "cell_type": "code",
   "execution_count": 2,
   "id": "e36b32c9dd98af79",
   "metadata": {
    "collapsed": false,
    "ExecuteTime": {
     "end_time": "2024-06-22T02:43:18.306462Z",
     "start_time": "2024-06-22T02:43:18.299565Z"
    }
   },
   "outputs": [],
   "source": [
    "def recall_at_k(expected_files, actual_files, k):\n",
    "     return len(set(actual_files[:k]) & set(expected_files)) / len(expected_files)\n",
    "\n",
    "def precision_at_k(expected_files, actual_files, k):\n",
    "    return len(set(actual_files[:k]) & set(expected_files)) / k\n",
    "\n",
    "def f1(expected_files, actual_files, k):\n",
    "    TP_set = set(expected_files) & set(actual_files)\n",
    "    FN_set = set(expected_files) - set(actual_files)\n",
    "    FP_set = set(actual_files) - set(expected_files)\n",
    "    \n",
    "    TP = len(TP_set)\n",
    "    FN = len(FN_set)\n",
    "    FP = len(FP_set)\n",
    "    \n",
    "    # Compute precision, recall, and F1-score\n",
    "    P = TP / (TP + FP)\n",
    "    R = TP / (TP + FN)\n",
    "    F1 = 2 * P * R / (P + R)\n",
    "    return F1\n",
    "\n",
    "def get_expected_files_indexes(expected_files, actual_files) -> np.ndarray[int]:\n",
    "    relevant = np.isin(expected_files, actual_files).astype(int)\n",
    "    return np.where(relevant == 1)[0]"
   ]
  },
  {
   "cell_type": "code",
   "execution_count": 3,
   "id": "01dd938d-bba4-4b98-b743-dbbbb220e2de",
   "metadata": {
    "ExecuteTime": {
     "end_time": "2024-06-22T02:43:25.008416Z",
     "start_time": "2024-06-22T02:43:25.005458Z"
    }
   },
   "outputs": [],
   "source": [
    "def calc_search_metrics(expected_files, actual_files):\n",
    "    if len(expected_files) == 1:\n",
    "        k = 1\n",
    "    else:\n",
    "        k = 2\n",
    "    if len(set(actual_files) & set(expected_files)) == 0:\n",
    "        return {\n",
    "            'R@k': 0,\n",
    "            'P@k': 0,\n",
    "            'f1': 0,\n",
    "        }\n",
    "        \n",
    "    metrics = {}\n",
    "    metrics['R@k'] = recall_at_k(expected_files, actual_files, k)\n",
    "    metrics['P@k'] = precision_at_k(expected_files, actual_files, k)\n",
    "    metrics['f1'] = f1(expected_files, actual_files, k)\n",
    "    return metrics"
   ]
  },
  {
   "cell_type": "code",
   "execution_count": 4,
   "id": "64c693eb-2426-4712-bb6e-78d22283eb80",
   "metadata": {
    "ExecuteTime": {
     "end_time": "2024-06-22T02:43:28.542910Z",
     "start_time": "2024-06-22T02:43:28.538462Z"
    }
   },
   "outputs": [],
   "source": [
    "def calc_retrive_metrics(expected_files, actual_files, distances):\n",
    "    expected_files_indexes = get_expected_files_indexes(expected_files, actual_files)\n",
    "    if len(expected_files_indexes) == 0:\n",
    "        return {\n",
    "            \"first_expected_pos\": None,\n",
    "            \"last_expected_pos\": None,\n",
    "            \"first_expected_distance\": None,\n",
    "            \"last_expected_distance\": None\n",
    "        }\n",
    "    metrics = {\n",
    "        \"first_expected_pos\": expected_files_indexes[0] / len(actual_files),\n",
    "        \"last_expected_pos\": expected_files_indexes[-1] / len(actual_files),\n",
    "        \"first_expected_index\": expected_files_indexes[0],\n",
    "        \"last_expected_index\": expected_files_indexes[-1],\n",
    "        \"first_expected_distance\": distances[expected_files_indexes[0]],\n",
    "        \"last_expected_distance\": distances[expected_files_indexes[-1]],\n",
    "    }\n",
    "    return metrics"
   ]
  },
  {
   "cell_type": "code",
   "execution_count": 5,
   "id": "8053794c-2e17-4d8d-aa4d-2238ecc0f6a4",
   "metadata": {
    "ExecuteTime": {
     "end_time": "2024-06-22T02:43:29.564436Z",
     "start_time": "2024-06-22T02:43:29.559966Z"
    }
   },
   "outputs": [],
   "source": [
    "def get_chat_metrics(results_path) -> pd.DataFrame:\n",
    "    df = pd.read_csv(results_path)\n",
    "    df['changed_files'] = df['changed_files'].map(lambda lst: ast.literal_eval(lst))\n",
    "    df['final_files'] = df['final_files'].map(lambda lst: ast.literal_eval(lst))\n",
    "    df['all_generated_files'] = df['all_generated_files'].map(lambda lst: ast.literal_eval(lst))\n",
    "\n",
    "    metrics = []\n",
    "    for i, row in df.iterrows():\n",
    "        expected_files = row['changed_files']\n",
    "        actual_files = row['final_files']\n",
    "        m = calc_search_metrics(expected_files, actual_files)\n",
    "        m['time_s'] = row['time_ms'] / 1000\n",
    "        m['batches_count'] = row['batches_count']\n",
    "        m['empty_output'] = 1 if len(row['final_files']) == 0 else 0\n",
    "        m['irrelevant_output'] = 1 if len(set(row['changed_files']) & set(row['final_files'])) == 0 else 0\n",
    "        m['wrong_output'] = 1 if len(set(row['all_generated_files']) - set(row['final_files'])) > 0 else 0\n",
    "        metrics.append(m)\n",
    "\n",
    "    return pd.DataFrame(metrics)"
   ]
  },
  {
   "cell_type": "code",
   "execution_count": 6,
   "id": "d4058b4a-c1ab-4f5c-b1f8-f444b67e3599",
   "metadata": {
    "ExecuteTime": {
     "end_time": "2024-06-22T02:43:32.456980Z",
     "start_time": "2024-06-22T02:43:32.453397Z"
    }
   },
   "outputs": [],
   "source": [
    "import re\n",
    "\n",
    "def add_commas_after_second_tick(s):\n",
    "    backtick_positions = [pos for pos, char in enumerate(s) if char == \"'\"]\n",
    "    for i in range(len(backtick_positions) // 2):\n",
    "        s = s[:backtick_positions[i * 2 + 1] + 1 + i] + ',' + s[backtick_positions[i * 2 + 1] + 1 + i:]\n",
    "    return s\n",
    "\n",
    "def get_emb_metrics(results_path) -> pd.DataFrame:\n",
    "    df = pd.read_csv(results_path)\n",
    "    df['final_files'] = df['final_files'].map(lambda lst: ast.literal_eval(lst))\n",
    "    df['rank_scores'] = df['rank_scores'].map(lambda lst: ast.literal_eval(lst))\n",
    "    df['changed_files'] = df['changed_files'].map(lambda lst: ast.literal_eval(lst))\n",
    "    metrics = []\n",
    "    for i, row in df.iterrows():\n",
    "        expected_files = row['changed_files']\n",
    "        actual_files = row['final_files']\n",
    "        m = {}\n",
    "        search_m = calc_search_metrics(expected_files, actual_files)\n",
    "        m.update(search_m)\n",
    "        retrive_m = calc_retrive_metrics(expected_files, actual_files, row['rank_scores'])\n",
    "        m.update(retrive_m)\n",
    "        m['time_s'] = row['time_ms'] / 1000\n",
    "        metrics.append(m)\n",
    "\n",
    "    return pd.DataFrame(metrics)"
   ]
  },
  {
   "cell_type": "code",
   "execution_count": 7,
   "id": "5e2426ed-fdcc-4e5e-90b2-14fe89954ae1",
   "metadata": {
    "ExecuteTime": {
     "end_time": "2024-06-22T02:43:33.934242Z",
     "start_time": "2024-06-22T02:43:33.932375Z"
    }
   },
   "outputs": [],
   "source": [
    "metrics = {}"
   ]
  },
  {
   "cell_type": "code",
   "execution_count": 8,
   "id": "da3b8dae-f4ba-4c3f-8ccb-b97d8d4098bd",
   "metadata": {
    "ExecuteTime": {
     "end_time": "2024-06-22T02:43:35.753074Z",
     "start_time": "2024-06-22T02:43:35.751157Z"
    }
   },
   "outputs": [],
   "source": [
    "results = '/home/tigina/lca-baselines/bug_localization/output'"
   ]
  },
  {
   "cell_type": "markdown",
   "id": "3416a4c9-a42a-4837-94d8-eea6a3d495ec",
   "metadata": {},
   "source": [
    "## Chat-based baselines"
   ]
  },
  {
   "cell_type": "code",
   "execution_count": 9,
   "id": "801baf7f-ecf2-4f77-b575-ae4c4f2a28e5",
   "metadata": {
    "ExecuteTime": {
     "end_time": "2024-06-22T02:43:47.105778Z",
     "start_time": "2024-06-22T02:43:46.673192Z"
    }
   },
   "outputs": [
    {
     "ename": "FileNotFoundError",
     "evalue": "[Errno 2] No such file or directory: '/home/tigina/lca-baselines/bug_localization/output/openai_chat_gpt-3.5-turbo-1106/results.csv'",
     "output_type": "error",
     "traceback": [
      "\u001B[0;31m---------------------------------------------------------------------------\u001B[0m",
      "\u001B[0;31mFileNotFoundError\u001B[0m                         Traceback (most recent call last)",
      "Cell \u001B[0;32mIn[9], line 1\u001B[0m\n\u001B[0;32m----> 1\u001B[0m metrics[\u001B[38;5;124m'\u001B[39m\u001B[38;5;124mopenai_chat_gpt-3.5-turbo-1106\u001B[39m\u001B[38;5;124m'\u001B[39m] \u001B[38;5;241m=\u001B[39m \u001B[43mget_emb_metrics\u001B[49m\u001B[43m(\u001B[49m\u001B[43mos\u001B[49m\u001B[38;5;241;43m.\u001B[39;49m\u001B[43mpath\u001B[49m\u001B[38;5;241;43m.\u001B[39;49m\u001B[43mjoin\u001B[49m\u001B[43m(\u001B[49m\u001B[43mresults\u001B[49m\u001B[43m,\u001B[49m\u001B[43m \u001B[49m\u001B[38;5;124;43m'\u001B[39;49m\u001B[38;5;124;43mopenai_chat_gpt-3.5-turbo-1106/results.csv\u001B[39;49m\u001B[38;5;124;43m'\u001B[39;49m\u001B[43m)\u001B[49m\u001B[43m)\u001B[49m\n\u001B[1;32m      2\u001B[0m df_emb_metrics[\u001B[38;5;124m'\u001B[39m\u001B[38;5;124mopenai_chat_gpt-3.5-turbo-1106\u001B[39m\u001B[38;5;124m'\u001B[39m]\u001B[38;5;241m.\u001B[39mdropna()\u001B[38;5;241m.\u001B[39mmean()\n",
      "Cell \u001B[0;32mIn[6], line 10\u001B[0m, in \u001B[0;36mget_emb_metrics\u001B[0;34m(results_path)\u001B[0m\n\u001B[1;32m      9\u001B[0m \u001B[38;5;28;01mdef\u001B[39;00m \u001B[38;5;21mget_emb_metrics\u001B[39m(results_path) \u001B[38;5;241m-\u001B[39m\u001B[38;5;241m>\u001B[39m pd\u001B[38;5;241m.\u001B[39mDataFrame:\n\u001B[0;32m---> 10\u001B[0m     df \u001B[38;5;241m=\u001B[39m \u001B[43mpd\u001B[49m\u001B[38;5;241;43m.\u001B[39;49m\u001B[43mread_csv\u001B[49m\u001B[43m(\u001B[49m\u001B[43mresults_path\u001B[49m\u001B[43m)\u001B[49m\n\u001B[1;32m     11\u001B[0m     df[\u001B[38;5;124m'\u001B[39m\u001B[38;5;124mfinal_files\u001B[39m\u001B[38;5;124m'\u001B[39m] \u001B[38;5;241m=\u001B[39m df[\u001B[38;5;124m'\u001B[39m\u001B[38;5;124mfinal_files\u001B[39m\u001B[38;5;124m'\u001B[39m]\u001B[38;5;241m.\u001B[39mmap(\u001B[38;5;28;01mlambda\u001B[39;00m lst: ast\u001B[38;5;241m.\u001B[39mliteral_eval(lst))\n\u001B[1;32m     12\u001B[0m     df[\u001B[38;5;124m'\u001B[39m\u001B[38;5;124mrank_scores\u001B[39m\u001B[38;5;124m'\u001B[39m] \u001B[38;5;241m=\u001B[39m df[\u001B[38;5;124m'\u001B[39m\u001B[38;5;124mrank_scores\u001B[39m\u001B[38;5;124m'\u001B[39m]\u001B[38;5;241m.\u001B[39mmap(\u001B[38;5;28;01mlambda\u001B[39;00m lst: ast\u001B[38;5;241m.\u001B[39mliteral_eval(lst))\n",
      "File \u001B[0;32m~/code/lca-baselines/bug_localization/lca-bug-loc/lib/python3.11/site-packages/pandas/io/parsers/readers.py:1026\u001B[0m, in \u001B[0;36mread_csv\u001B[0;34m(filepath_or_buffer, sep, delimiter, header, names, index_col, usecols, dtype, engine, converters, true_values, false_values, skipinitialspace, skiprows, skipfooter, nrows, na_values, keep_default_na, na_filter, verbose, skip_blank_lines, parse_dates, infer_datetime_format, keep_date_col, date_parser, date_format, dayfirst, cache_dates, iterator, chunksize, compression, thousands, decimal, lineterminator, quotechar, quoting, doublequote, escapechar, comment, encoding, encoding_errors, dialect, on_bad_lines, delim_whitespace, low_memory, memory_map, float_precision, storage_options, dtype_backend)\u001B[0m\n\u001B[1;32m   1013\u001B[0m kwds_defaults \u001B[38;5;241m=\u001B[39m _refine_defaults_read(\n\u001B[1;32m   1014\u001B[0m     dialect,\n\u001B[1;32m   1015\u001B[0m     delimiter,\n\u001B[0;32m   (...)\u001B[0m\n\u001B[1;32m   1022\u001B[0m     dtype_backend\u001B[38;5;241m=\u001B[39mdtype_backend,\n\u001B[1;32m   1023\u001B[0m )\n\u001B[1;32m   1024\u001B[0m kwds\u001B[38;5;241m.\u001B[39mupdate(kwds_defaults)\n\u001B[0;32m-> 1026\u001B[0m \u001B[38;5;28;01mreturn\u001B[39;00m \u001B[43m_read\u001B[49m\u001B[43m(\u001B[49m\u001B[43mfilepath_or_buffer\u001B[49m\u001B[43m,\u001B[49m\u001B[43m \u001B[49m\u001B[43mkwds\u001B[49m\u001B[43m)\u001B[49m\n",
      "File \u001B[0;32m~/code/lca-baselines/bug_localization/lca-bug-loc/lib/python3.11/site-packages/pandas/io/parsers/readers.py:620\u001B[0m, in \u001B[0;36m_read\u001B[0;34m(filepath_or_buffer, kwds)\u001B[0m\n\u001B[1;32m    617\u001B[0m _validate_names(kwds\u001B[38;5;241m.\u001B[39mget(\u001B[38;5;124m\"\u001B[39m\u001B[38;5;124mnames\u001B[39m\u001B[38;5;124m\"\u001B[39m, \u001B[38;5;28;01mNone\u001B[39;00m))\n\u001B[1;32m    619\u001B[0m \u001B[38;5;66;03m# Create the parser.\u001B[39;00m\n\u001B[0;32m--> 620\u001B[0m parser \u001B[38;5;241m=\u001B[39m \u001B[43mTextFileReader\u001B[49m\u001B[43m(\u001B[49m\u001B[43mfilepath_or_buffer\u001B[49m\u001B[43m,\u001B[49m\u001B[43m \u001B[49m\u001B[38;5;241;43m*\u001B[39;49m\u001B[38;5;241;43m*\u001B[39;49m\u001B[43mkwds\u001B[49m\u001B[43m)\u001B[49m\n\u001B[1;32m    622\u001B[0m \u001B[38;5;28;01mif\u001B[39;00m chunksize \u001B[38;5;129;01mor\u001B[39;00m iterator:\n\u001B[1;32m    623\u001B[0m     \u001B[38;5;28;01mreturn\u001B[39;00m parser\n",
      "File \u001B[0;32m~/code/lca-baselines/bug_localization/lca-bug-loc/lib/python3.11/site-packages/pandas/io/parsers/readers.py:1620\u001B[0m, in \u001B[0;36mTextFileReader.__init__\u001B[0;34m(self, f, engine, **kwds)\u001B[0m\n\u001B[1;32m   1617\u001B[0m     \u001B[38;5;28mself\u001B[39m\u001B[38;5;241m.\u001B[39moptions[\u001B[38;5;124m\"\u001B[39m\u001B[38;5;124mhas_index_names\u001B[39m\u001B[38;5;124m\"\u001B[39m] \u001B[38;5;241m=\u001B[39m kwds[\u001B[38;5;124m\"\u001B[39m\u001B[38;5;124mhas_index_names\u001B[39m\u001B[38;5;124m\"\u001B[39m]\n\u001B[1;32m   1619\u001B[0m \u001B[38;5;28mself\u001B[39m\u001B[38;5;241m.\u001B[39mhandles: IOHandles \u001B[38;5;241m|\u001B[39m \u001B[38;5;28;01mNone\u001B[39;00m \u001B[38;5;241m=\u001B[39m \u001B[38;5;28;01mNone\u001B[39;00m\n\u001B[0;32m-> 1620\u001B[0m \u001B[38;5;28mself\u001B[39m\u001B[38;5;241m.\u001B[39m_engine \u001B[38;5;241m=\u001B[39m \u001B[38;5;28;43mself\u001B[39;49m\u001B[38;5;241;43m.\u001B[39;49m\u001B[43m_make_engine\u001B[49m\u001B[43m(\u001B[49m\u001B[43mf\u001B[49m\u001B[43m,\u001B[49m\u001B[43m \u001B[49m\u001B[38;5;28;43mself\u001B[39;49m\u001B[38;5;241;43m.\u001B[39;49m\u001B[43mengine\u001B[49m\u001B[43m)\u001B[49m\n",
      "File \u001B[0;32m~/code/lca-baselines/bug_localization/lca-bug-loc/lib/python3.11/site-packages/pandas/io/parsers/readers.py:1880\u001B[0m, in \u001B[0;36mTextFileReader._make_engine\u001B[0;34m(self, f, engine)\u001B[0m\n\u001B[1;32m   1878\u001B[0m     \u001B[38;5;28;01mif\u001B[39;00m \u001B[38;5;124m\"\u001B[39m\u001B[38;5;124mb\u001B[39m\u001B[38;5;124m\"\u001B[39m \u001B[38;5;129;01mnot\u001B[39;00m \u001B[38;5;129;01min\u001B[39;00m mode:\n\u001B[1;32m   1879\u001B[0m         mode \u001B[38;5;241m+\u001B[39m\u001B[38;5;241m=\u001B[39m \u001B[38;5;124m\"\u001B[39m\u001B[38;5;124mb\u001B[39m\u001B[38;5;124m\"\u001B[39m\n\u001B[0;32m-> 1880\u001B[0m \u001B[38;5;28mself\u001B[39m\u001B[38;5;241m.\u001B[39mhandles \u001B[38;5;241m=\u001B[39m \u001B[43mget_handle\u001B[49m\u001B[43m(\u001B[49m\n\u001B[1;32m   1881\u001B[0m \u001B[43m    \u001B[49m\u001B[43mf\u001B[49m\u001B[43m,\u001B[49m\n\u001B[1;32m   1882\u001B[0m \u001B[43m    \u001B[49m\u001B[43mmode\u001B[49m\u001B[43m,\u001B[49m\n\u001B[1;32m   1883\u001B[0m \u001B[43m    \u001B[49m\u001B[43mencoding\u001B[49m\u001B[38;5;241;43m=\u001B[39;49m\u001B[38;5;28;43mself\u001B[39;49m\u001B[38;5;241;43m.\u001B[39;49m\u001B[43moptions\u001B[49m\u001B[38;5;241;43m.\u001B[39;49m\u001B[43mget\u001B[49m\u001B[43m(\u001B[49m\u001B[38;5;124;43m\"\u001B[39;49m\u001B[38;5;124;43mencoding\u001B[39;49m\u001B[38;5;124;43m\"\u001B[39;49m\u001B[43m,\u001B[49m\u001B[43m \u001B[49m\u001B[38;5;28;43;01mNone\u001B[39;49;00m\u001B[43m)\u001B[49m\u001B[43m,\u001B[49m\n\u001B[1;32m   1884\u001B[0m \u001B[43m    \u001B[49m\u001B[43mcompression\u001B[49m\u001B[38;5;241;43m=\u001B[39;49m\u001B[38;5;28;43mself\u001B[39;49m\u001B[38;5;241;43m.\u001B[39;49m\u001B[43moptions\u001B[49m\u001B[38;5;241;43m.\u001B[39;49m\u001B[43mget\u001B[49m\u001B[43m(\u001B[49m\u001B[38;5;124;43m\"\u001B[39;49m\u001B[38;5;124;43mcompression\u001B[39;49m\u001B[38;5;124;43m\"\u001B[39;49m\u001B[43m,\u001B[49m\u001B[43m \u001B[49m\u001B[38;5;28;43;01mNone\u001B[39;49;00m\u001B[43m)\u001B[49m\u001B[43m,\u001B[49m\n\u001B[1;32m   1885\u001B[0m \u001B[43m    \u001B[49m\u001B[43mmemory_map\u001B[49m\u001B[38;5;241;43m=\u001B[39;49m\u001B[38;5;28;43mself\u001B[39;49m\u001B[38;5;241;43m.\u001B[39;49m\u001B[43moptions\u001B[49m\u001B[38;5;241;43m.\u001B[39;49m\u001B[43mget\u001B[49m\u001B[43m(\u001B[49m\u001B[38;5;124;43m\"\u001B[39;49m\u001B[38;5;124;43mmemory_map\u001B[39;49m\u001B[38;5;124;43m\"\u001B[39;49m\u001B[43m,\u001B[49m\u001B[43m \u001B[49m\u001B[38;5;28;43;01mFalse\u001B[39;49;00m\u001B[43m)\u001B[49m\u001B[43m,\u001B[49m\n\u001B[1;32m   1886\u001B[0m \u001B[43m    \u001B[49m\u001B[43mis_text\u001B[49m\u001B[38;5;241;43m=\u001B[39;49m\u001B[43mis_text\u001B[49m\u001B[43m,\u001B[49m\n\u001B[1;32m   1887\u001B[0m \u001B[43m    \u001B[49m\u001B[43merrors\u001B[49m\u001B[38;5;241;43m=\u001B[39;49m\u001B[38;5;28;43mself\u001B[39;49m\u001B[38;5;241;43m.\u001B[39;49m\u001B[43moptions\u001B[49m\u001B[38;5;241;43m.\u001B[39;49m\u001B[43mget\u001B[49m\u001B[43m(\u001B[49m\u001B[38;5;124;43m\"\u001B[39;49m\u001B[38;5;124;43mencoding_errors\u001B[39;49m\u001B[38;5;124;43m\"\u001B[39;49m\u001B[43m,\u001B[49m\u001B[43m \u001B[49m\u001B[38;5;124;43m\"\u001B[39;49m\u001B[38;5;124;43mstrict\u001B[39;49m\u001B[38;5;124;43m\"\u001B[39;49m\u001B[43m)\u001B[49m\u001B[43m,\u001B[49m\n\u001B[1;32m   1888\u001B[0m \u001B[43m    \u001B[49m\u001B[43mstorage_options\u001B[49m\u001B[38;5;241;43m=\u001B[39;49m\u001B[38;5;28;43mself\u001B[39;49m\u001B[38;5;241;43m.\u001B[39;49m\u001B[43moptions\u001B[49m\u001B[38;5;241;43m.\u001B[39;49m\u001B[43mget\u001B[49m\u001B[43m(\u001B[49m\u001B[38;5;124;43m\"\u001B[39;49m\u001B[38;5;124;43mstorage_options\u001B[39;49m\u001B[38;5;124;43m\"\u001B[39;49m\u001B[43m,\u001B[49m\u001B[43m \u001B[49m\u001B[38;5;28;43;01mNone\u001B[39;49;00m\u001B[43m)\u001B[49m\u001B[43m,\u001B[49m\n\u001B[1;32m   1889\u001B[0m \u001B[43m\u001B[49m\u001B[43m)\u001B[49m\n\u001B[1;32m   1890\u001B[0m \u001B[38;5;28;01massert\u001B[39;00m \u001B[38;5;28mself\u001B[39m\u001B[38;5;241m.\u001B[39mhandles \u001B[38;5;129;01mis\u001B[39;00m \u001B[38;5;129;01mnot\u001B[39;00m \u001B[38;5;28;01mNone\u001B[39;00m\n\u001B[1;32m   1891\u001B[0m f \u001B[38;5;241m=\u001B[39m \u001B[38;5;28mself\u001B[39m\u001B[38;5;241m.\u001B[39mhandles\u001B[38;5;241m.\u001B[39mhandle\n",
      "File \u001B[0;32m~/code/lca-baselines/bug_localization/lca-bug-loc/lib/python3.11/site-packages/pandas/io/common.py:873\u001B[0m, in \u001B[0;36mget_handle\u001B[0;34m(path_or_buf, mode, encoding, compression, memory_map, is_text, errors, storage_options)\u001B[0m\n\u001B[1;32m    868\u001B[0m \u001B[38;5;28;01melif\u001B[39;00m \u001B[38;5;28misinstance\u001B[39m(handle, \u001B[38;5;28mstr\u001B[39m):\n\u001B[1;32m    869\u001B[0m     \u001B[38;5;66;03m# Check whether the filename is to be opened in binary mode.\u001B[39;00m\n\u001B[1;32m    870\u001B[0m     \u001B[38;5;66;03m# Binary mode does not support 'encoding' and 'newline'.\u001B[39;00m\n\u001B[1;32m    871\u001B[0m     \u001B[38;5;28;01mif\u001B[39;00m ioargs\u001B[38;5;241m.\u001B[39mencoding \u001B[38;5;129;01mand\u001B[39;00m \u001B[38;5;124m\"\u001B[39m\u001B[38;5;124mb\u001B[39m\u001B[38;5;124m\"\u001B[39m \u001B[38;5;129;01mnot\u001B[39;00m \u001B[38;5;129;01min\u001B[39;00m ioargs\u001B[38;5;241m.\u001B[39mmode:\n\u001B[1;32m    872\u001B[0m         \u001B[38;5;66;03m# Encoding\u001B[39;00m\n\u001B[0;32m--> 873\u001B[0m         handle \u001B[38;5;241m=\u001B[39m \u001B[38;5;28;43mopen\u001B[39;49m\u001B[43m(\u001B[49m\n\u001B[1;32m    874\u001B[0m \u001B[43m            \u001B[49m\u001B[43mhandle\u001B[49m\u001B[43m,\u001B[49m\n\u001B[1;32m    875\u001B[0m \u001B[43m            \u001B[49m\u001B[43mioargs\u001B[49m\u001B[38;5;241;43m.\u001B[39;49m\u001B[43mmode\u001B[49m\u001B[43m,\u001B[49m\n\u001B[1;32m    876\u001B[0m \u001B[43m            \u001B[49m\u001B[43mencoding\u001B[49m\u001B[38;5;241;43m=\u001B[39;49m\u001B[43mioargs\u001B[49m\u001B[38;5;241;43m.\u001B[39;49m\u001B[43mencoding\u001B[49m\u001B[43m,\u001B[49m\n\u001B[1;32m    877\u001B[0m \u001B[43m            \u001B[49m\u001B[43merrors\u001B[49m\u001B[38;5;241;43m=\u001B[39;49m\u001B[43merrors\u001B[49m\u001B[43m,\u001B[49m\n\u001B[1;32m    878\u001B[0m \u001B[43m            \u001B[49m\u001B[43mnewline\u001B[49m\u001B[38;5;241;43m=\u001B[39;49m\u001B[38;5;124;43m\"\u001B[39;49m\u001B[38;5;124;43m\"\u001B[39;49m\u001B[43m,\u001B[49m\n\u001B[1;32m    879\u001B[0m \u001B[43m        \u001B[49m\u001B[43m)\u001B[49m\n\u001B[1;32m    880\u001B[0m     \u001B[38;5;28;01melse\u001B[39;00m:\n\u001B[1;32m    881\u001B[0m         \u001B[38;5;66;03m# Binary mode\u001B[39;00m\n\u001B[1;32m    882\u001B[0m         handle \u001B[38;5;241m=\u001B[39m \u001B[38;5;28mopen\u001B[39m(handle, ioargs\u001B[38;5;241m.\u001B[39mmode)\n",
      "\u001B[0;31mFileNotFoundError\u001B[0m: [Errno 2] No such file or directory: '/home/tigina/lca-baselines/bug_localization/output/openai_chat_gpt-3.5-turbo-1106/results.csv'"
     ]
    }
   ],
   "source": [
    "metrics['openai_chat_gpt-3.5-turbo-1106'] = get_emb_metrics(os.path.join(results, 'openai_chat_gpt-3.5-turbo-1106/results.csv'))\n",
    "df_emb_metrics['openai_chat_gpt-3.5-turbo-1106'].dropna().mean()"
   ]
  },
  {
   "cell_type": "code",
   "execution_count": null,
   "id": "b73d398c-d6c2-44b1-9718-e63ea5f23e1d",
   "metadata": {},
   "outputs": [],
   "source": []
  }
 ],
 "metadata": {
  "kernelspec": {
   "display_name": "Python 3 (ipykernel)",
   "language": "python",
   "name": "python3"
  },
  "language_info": {
   "codemirror_mode": {
    "name": "ipython",
    "version": 3
   },
   "file_extension": ".py",
   "mimetype": "text/x-python",
   "name": "python",
   "nbconvert_exporter": "python",
   "pygments_lexer": "ipython3",
   "version": "3.10.12"
  }
 },
 "nbformat": 4,
 "nbformat_minor": 5
}
